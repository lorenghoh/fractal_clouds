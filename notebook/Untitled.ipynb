{
 "cells": [
  {
   "cell_type": "markdown",
   "metadata": {},
   "source": [
    "# Fractal Analysis of Cumulus Clouds"
   ]
  },
  {
   "cell_type": "code",
   "execution_count": 5,
   "metadata": {},
   "outputs": [
    {
     "name": "stdout",
     "output_type": "stream",
     "text": [
      "/tera/users/loh/repos/stull_radius\n",
      "calc_fdim.py      \u001b[0m\u001b[01;34mpng\u001b[0m/                tasks.todo\r\n",
      "\u001b[01;34mnotebook\u001b[0m/         README.md           \u001b[01;36mtracking\u001b[0m@\r\n",
      "plot_observed.py  read_pq_vs_hdf5.py  write_parquet.py\r\n"
     ]
    }
   ],
   "source": [
    "# Head to the main workspace\n",
    "%cd /tera/users/loh/repos/stull_radius\n",
    "%ls"
   ]
  }
 ],
 "metadata": {
  "kernelspec": {
   "display_name": "Python 3",
   "language": "python",
   "name": "python3"
  },
  "language_info": {
   "codemirror_mode": {
    "name": "ipython",
    "version": 3
   },
   "file_extension": ".py",
   "mimetype": "text/x-python",
   "name": "python",
   "nbconvert_exporter": "python",
   "pygments_lexer": "ipython3",
   "version": "3.6.4"
  }
 },
 "nbformat": 4,
 "nbformat_minor": 2
}
